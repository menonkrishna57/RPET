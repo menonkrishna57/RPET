{
  "cells": [
    {
      "cell_type": "markdown",
      "metadata": {
        "id": "view-in-github",
        "colab_type": "text"
      },
      "source": [
        "<a href=\"https://colab.research.google.com/github/menonkrishna57/RPET/blob/main/I045_Lab4_RPET.ipynb\" target=\"_parent\"><img src=\"https://colab.research.google.com/assets/colab-badge.svg\" alt=\"Open In Colab\"/></a>"
      ]
    },
    {
      "cell_type": "markdown",
      "source": [
        "wap to ake input from user to take sample size, population size. show point estimate and interval estimate"
      ],
      "metadata": {
        "id": "_wbTyY07EVS4"
      }
    },
    {
      "cell_type": "code",
      "source": [
        "%matplotlib inline\n",
        "\n",
        "import numpy as np\n",
        "import pandas as pd\n",
        "import scipy.stats as stats\n",
        "import matplotlib.pyplot as plt\n",
        "import random as r\n",
        "import math as m"
      ],
      "metadata": {
        "id": "0yzPsumr-iet"
      },
      "execution_count": 1,
      "outputs": []
    },
    {
      "cell_type": "code",
      "source": [
        "sample_size=int(input(\"Enter the Sample Size: \"))\n",
        "population_size=int(input(\"Enter the Population Size: \"))\n",
        "\n",
        "np.random.seed(10)\n",
        "population_ages1 = stats.poisson.rvs(loc=18, mu=35, size=population_size)\n",
        "population_ages2 = stats.poisson.rvs(loc=18, mu=10, size=population_size)\n",
        "population_ages = np.concatenate((population_ages1, population_ages2))\n",
        "\n",
        "population_ages.mean()"
      ],
      "metadata": {
        "id": "MTVxVMF1-mmM",
        "outputId": "68c9ea9b-b7b8-4206-e51a-789b77a4a031",
        "colab": {
          "base_uri": "https://localhost:8080/"
        }
      },
      "execution_count": 2,
      "outputs": [
        {
          "name": "stdout",
          "output_type": "stream",
          "text": [
            "Enter the Sample Size: 100000\n",
            "Enter the Population Size: 100000\n"
          ]
        },
        {
          "output_type": "execute_result",
          "data": {
            "text/plain": [
              "40.498125"
            ]
          },
          "metadata": {},
          "execution_count": 2
        }
      ]
    },
    {
      "cell_type": "code",
      "source": [
        "np.random.seed(10)\n",
        "sample_ages=np.random.choice(population_ages,sample_size)\n",
        "print(\"Mean of Sample is:\",sample_ages.mean())\n",
        "print(\"Mean of Population is:\",population_ages.mean())\n",
        "print(\"Difference is:\",population_ages.mean()-sample_ages.mean())"
      ],
      "metadata": {
        "id": "qHztJt3H_bbv",
        "outputId": "9906060b-99d0-4f24-81d0-1561a6c6b1eb",
        "colab": {
          "base_uri": "https://localhost:8080/"
        }
      },
      "execution_count": 5,
      "outputs": [
        {
          "output_type": "stream",
          "name": "stdout",
          "text": [
            "Mean of Sample is: 40.53415\n",
            "Mean of Population is: 40.498125\n",
            "Difference is: -0.03602499999999509\n"
          ]
        }
      ]
    },
    {
      "cell_type": "code",
      "source": [
        "np.random.seed(10)\n",
        "point_estimates=[]\n",
        "for i in range(200):\n",
        "  sample_ages=np.random.choice(population_ages,sample_size)\n",
        "  point_estimates.append(sample_ages.mean())\n",
        "\n",
        "\n",
        ""
      ],
      "metadata": {
        "id": "ZPlHoZJDBNYk",
        "outputId": "e86f8583-c8eb-4800-86b7-93f3ec541e12",
        "colab": {
          "base_uri": "https://localhost:8080/"
        }
      },
      "execution_count": 6,
      "outputs": [
        {
          "output_type": "execute_result",
          "data": {
            "text/plain": [
              "array([58, 55, 53, ..., 30, 30, 26])"
            ]
          },
          "metadata": {},
          "execution_count": 6
        }
      ]
    },
    {
      "cell_type": "code",
      "source": [],
      "metadata": {
        "id": "KsDC2LQLDyqB"
      },
      "execution_count": null,
      "outputs": []
    }
  ],
  "metadata": {
    "colab": {
      "name": "I045_Lab4_RPET",
      "toc_visible": true,
      "provenance": [],
      "include_colab_link": true
    },
    "kernelspec": {
      "display_name": "Python 3",
      "name": "python3"
    }
  },
  "nbformat": 4,
  "nbformat_minor": 0
}